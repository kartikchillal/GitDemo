{
 "cells": [
  {
   "cell_type": "code",
   "execution_count": 3,
   "id": "89d25925",
   "metadata": {},
   "outputs": [
    {
     "name": "stdout",
     "output_type": "stream",
     "text": [
      "0\n",
      "1\n",
      "2\n",
      "3\n",
      "4\n",
      "5\n",
      "6\n",
      "7\n",
      "8\n"
     ]
    }
   ],
   "source": [
    "i=0\n",
    "while i<9:\n",
    "    print(i )\n",
    "    i+=1"
   ]
  },
  {
   "cell_type": "code",
   "execution_count": 13,
   "id": "1ceb9b5c",
   "metadata": {},
   "outputs": [
    {
     "name": "stdout",
     "output_type": "stream",
     "text": [
      "s\n"
     ]
    }
   ],
   "source": [
    "a=1\n",
    "if a>13:\n",
    "    print(\"g\")\n",
    "elif a<13:\n",
    "    print(\"s\")\n",
    "else:\n",
    "    print(\"e\")"
   ]
  },
  {
   "cell_type": "code",
   "execution_count": 14,
   "id": "193476e8",
   "metadata": {},
   "outputs": [
    {
     "data": {
      "text/plain": [
       "1"
      ]
     },
     "execution_count": 14,
     "metadata": {},
     "output_type": "execute_result"
    }
   ],
   "source": [
    "a"
   ]
  },
  {
   "cell_type": "code",
   "execution_count": 15,
   "id": "05639f61",
   "metadata": {},
   "outputs": [
    {
     "name": "stdout",
     "output_type": "stream",
     "text": [
      "enter num: 5\n",
      "smaller\n",
      "enter num: 2\n",
      "smaller\n",
      "enter num: 1\n",
      "smaller\n",
      "enter num: 2\n",
      "smaller\n",
      "enter num: 3\n",
      "smaller\n",
      "enter num: 4\n",
      "smaller\n",
      "enter num: 5\n",
      "smaller\n",
      "enter num: 6\n",
      "smaller\n",
      "enter num: 7\n",
      "smaller\n",
      "enter num: 8\n",
      "smaller\n",
      "enter num: 9\n",
      "smaller\n",
      "enter num: 10\n",
      "smaller\n",
      "enter num: 11\n",
      "smaller\n",
      "enter num: 12\n",
      "smaller\n",
      "enter num: 13\n",
      "smaller\n",
      "enter num: 14\n",
      "smaller\n",
      "enter num: 15\n",
      "smaller\n",
      "enter num: 16\n",
      "con\n"
     ]
    }
   ],
   "source": [
    "import random\n",
    "n=20\n",
    "r=int(n*random.random())+1\n",
    "g=0\n",
    "while g != r:\n",
    "    g=int(input(\"enter num: \"))\n",
    "    if g>=0:\n",
    "        if g>r:\n",
    "            print(\"greater\")\n",
    "        elif g<r:\n",
    "            print(\"smaller\")\n",
    "    else:\n",
    "            print(\"give up\")\n",
    "            break\n",
    "else:\n",
    "    print(\"con\")"
   ]
  },
  {
   "cell_type": "markdown",
   "id": "d95918f3",
   "metadata": {},
   "source": [
    "a\n"
   ]
  },
  {
   "cell_type": "code",
   "execution_count": 16,
   "id": "11804775",
   "metadata": {},
   "outputs": [
    {
     "data": {
      "text/plain": [
       "1"
      ]
     },
     "execution_count": 16,
     "metadata": {},
     "output_type": "execute_result"
    }
   ],
   "source": [
    "a"
   ]
  },
  {
   "cell_type": "code",
   "execution_count": 20,
   "id": "1860ce76",
   "metadata": {},
   "outputs": [
    {
     "name": "stdout",
     "output_type": "stream",
     "text": [
      "enter number4\n",
      "24\n"
     ]
    }
   ],
   "source": [
    "b=int(input(\"enter number\"))\n",
    "f=1\n",
    "if b<0:\n",
    "    print(\"negative\")\n",
    "elif b==0:\n",
    "    print(\"1\")\n",
    "else:\n",
    "    for k in range(1,b+1):\n",
    "        f*=k\n",
    "    print(f)"
   ]
  },
  {
   "cell_type": "code",
   "execution_count": 28,
   "id": "7dbff38c",
   "metadata": {},
   "outputs": [
    {
     "name": "stdout",
     "output_type": "stream",
     "text": [
      "eter num20\n",
      "3 4 5\n",
      "5 12 13\n",
      "6 8 10\n",
      "8 15 17\n",
      "9 12 15\n",
      "12 16 20\n"
     ]
    }
   ],
   "source": [
    "from math import sqrt\n",
    "n=int(input(\"eter num\"))\n",
    "for i in range(1,n+1):\n",
    "    for j in range(i,n):\n",
    "        k = i*i + j*j\n",
    "        l=int(sqrt(k))\n",
    "        if l*l == k:\n",
    "            print(i,j,l)\n",
    "                    "
   ]
  },
  {
   "cell_type": "code",
   "execution_count": null,
   "id": "895221b3",
   "metadata": {},
   "outputs": [],
   "source": [
    "n=int(input(\"eter num\"))\n",
    "for i in range(1,n+1):\n",
    "    for j in range(i,n+1):\n",
    "        for k in range(j,n+1):\n",
    "            if i*i + j*j == k*k:\n",
    "                print(i,j,k)"
   ]
  },
  {
   "cell_type": "code",
   "execution_count": null,
   "id": "13ffaeaa",
   "metadata": {},
   "outputs": [],
   "source": [
    "n=int(input(\"eter num\"))\n",
    "for i in range(1,n+1):\n",
    "    for j in range(i,n+1):\n",
    "        for k in range(j,n+1):\n",
    "            if i*i + j*j == k*k:\n",
    "                print(i,j,k)"
   ]
  },
  {
   "cell_type": "code",
   "execution_count": null,
   "id": "cef27b4f",
   "metadata": {},
   "outputs": [],
   "source": []
  }
 ],
 "metadata": {
  "kernelspec": {
   "display_name": "Python 3 (ipykernel)",
   "language": "python",
   "name": "python3"
  },
  "language_info": {
   "codemirror_mode": {
    "name": "ipython",
    "version": 3
   },
   "file_extension": ".py",
   "mimetype": "text/x-python",
   "name": "python",
   "nbconvert_exporter": "python",
   "pygments_lexer": "ipython3",
   "version": "3.9.7"
  }
 },
 "nbformat": 4,
 "nbformat_minor": 5
}
